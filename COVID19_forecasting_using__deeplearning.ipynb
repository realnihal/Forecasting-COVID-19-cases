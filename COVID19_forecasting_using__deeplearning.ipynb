{
  "nbformat": 4,
  "nbformat_minor": 5,
  "metadata": {
    "kernelspec": {
      "display_name": "Python 3 (ipykernel)",
      "language": "python",
      "name": "python3"
    },
    "language_info": {
      "codemirror_mode": {
        "name": "ipython",
        "version": 3
      },
      "file_extension": ".py",
      "mimetype": "text/x-python",
      "name": "python",
      "nbconvert_exporter": "python",
      "pygments_lexer": "ipython3",
      "version": "3.9.6"
    },
    "colab": {
      "name": "COVID19_forecasting_using _deeplearning.ipynb",
      "provenance": [],
      "collapsed_sections": [],
      "include_colab_link": true
    },
    "accelerator": "GPU"
  },
  "cells": [
    {
      "cell_type": "markdown",
      "metadata": {
        "id": "view-in-github",
        "colab_type": "text"
      },
      "source": [
        "<a href=\"https://colab.research.google.com/github/realnihal/Forecasting-COVID-19-cases/blob/main/COVID19_forecasting_using__deeplearning.ipynb\" target=\"_parent\"><img src=\"https://colab.research.google.com/assets/colab-badge.svg\" alt=\"Open In Colab\"/></a>"
      ]
    },
    {
      "cell_type": "markdown",
      "metadata": {
        "id": "M8Z3QAsKhqMc"
      },
      "source": [
        "# **Forecasting COVID-19 Case in India with deep learning**\n",
        "\n",
        "## Introduction\n",
        "\n",
        "The goal of this project is to give a fair estimate of covid cases in India. I came across an published article on [Forecasting COVID-19 cases](https://reader.elsevier.com/reader/sd/pii/S2211379721000048?token=96B6C9E2813943F5D2FE4882F66A79AFA5E8779BC525996AA7E6F9EE1B924E254C50FC4994A800B07CE92EADF065D17B&originRegion=eu-west-1&originCreation=20210815022455). They were able to make predections with an error of less that 2%. Here I have tried to implement their learnings and try to make predictions for the next few days.\n",
        "\n",
        "## Importing data\n",
        "\n",
        "I have imported the covid-19 data from [this source](https://documenter.getpostman.com/view/10724784/SzYXXKmA). The data is collected by volunteers and pre-cleaned. We get access to various metrics but only interested in the \"Daily Case\" counts.\n",
        "\n"
      ],
      "id": "M8Z3QAsKhqMc"
    },
    {
      "cell_type": "code",
      "metadata": {
        "colab": {
          "base_uri": "https://localhost:8080/"
        },
        "id": "d8fb5cd4",
        "outputId": "f4ad3032-2d0a-43dd-832e-b347f2f9e11d"
      },
      "source": [
        "# importing the Covid-19 time series data\n",
        "import urllib.request\n",
        "url = 'https://api.covid19india.org/csv/latest/case_time_series.csv'\n",
        "filename = 'case_time_series.csv'\n",
        "urllib.request.urlretrieve(url, filename)"
      ],
      "id": "d8fb5cd4",
      "execution_count": null,
      "outputs": [
        {
          "output_type": "execute_result",
          "data": {
            "text/plain": [
              "('case_time_series.csv', <http.client.HTTPMessage at 0x7f6c66c41110>)"
            ]
          },
          "metadata": {
            "tags": []
          },
          "execution_count": 1
        }
      ]
    },
    {
      "cell_type": "code",
      "metadata": {
        "colab": {
          "base_uri": "https://localhost:8080/",
          "height": 234
        },
        "id": "9ddbd346",
        "outputId": "b9d85f68-09b7-46ee-80c1-de7dd3f7dfa2"
      },
      "source": [
        "# reading the covid-19 data using pandas\n",
        "import pandas as pd\n",
        "df = pd.read_csv(\"case_time_series.csv\", \n",
        "                 parse_dates=[\"Date\"], \n",
        "                 index_col=[\"Date\"]) # parse the date column (tell pandas column 1 is a datetime)\n",
        "df.head()"
      ],
      "id": "9ddbd346",
      "execution_count": null,
      "outputs": [
        {
          "output_type": "execute_result",
          "data": {
            "text/html": [
              "<div>\n",
              "<style scoped>\n",
              "    .dataframe tbody tr th:only-of-type {\n",
              "        vertical-align: middle;\n",
              "    }\n",
              "\n",
              "    .dataframe tbody tr th {\n",
              "        vertical-align: top;\n",
              "    }\n",
              "\n",
              "    .dataframe thead th {\n",
              "        text-align: right;\n",
              "    }\n",
              "</style>\n",
              "<table border=\"1\" class=\"dataframe\">\n",
              "  <thead>\n",
              "    <tr style=\"text-align: right;\">\n",
              "      <th></th>\n",
              "      <th>Date_YMD</th>\n",
              "      <th>Daily Confirmed</th>\n",
              "      <th>Total Confirmed</th>\n",
              "      <th>Daily Recovered</th>\n",
              "      <th>Total Recovered</th>\n",
              "      <th>Daily Deceased</th>\n",
              "      <th>Total Deceased</th>\n",
              "    </tr>\n",
              "    <tr>\n",
              "      <th>Date</th>\n",
              "      <th></th>\n",
              "      <th></th>\n",
              "      <th></th>\n",
              "      <th></th>\n",
              "      <th></th>\n",
              "      <th></th>\n",
              "      <th></th>\n",
              "    </tr>\n",
              "  </thead>\n",
              "  <tbody>\n",
              "    <tr>\n",
              "      <th>2020-01-30</th>\n",
              "      <td>2020-01-30</td>\n",
              "      <td>1</td>\n",
              "      <td>1</td>\n",
              "      <td>0</td>\n",
              "      <td>0</td>\n",
              "      <td>0</td>\n",
              "      <td>0</td>\n",
              "    </tr>\n",
              "    <tr>\n",
              "      <th>2020-01-31</th>\n",
              "      <td>2020-01-31</td>\n",
              "      <td>0</td>\n",
              "      <td>1</td>\n",
              "      <td>0</td>\n",
              "      <td>0</td>\n",
              "      <td>0</td>\n",
              "      <td>0</td>\n",
              "    </tr>\n",
              "    <tr>\n",
              "      <th>2020-02-01</th>\n",
              "      <td>2020-02-01</td>\n",
              "      <td>0</td>\n",
              "      <td>1</td>\n",
              "      <td>0</td>\n",
              "      <td>0</td>\n",
              "      <td>0</td>\n",
              "      <td>0</td>\n",
              "    </tr>\n",
              "    <tr>\n",
              "      <th>2020-02-02</th>\n",
              "      <td>2020-02-02</td>\n",
              "      <td>1</td>\n",
              "      <td>2</td>\n",
              "      <td>0</td>\n",
              "      <td>0</td>\n",
              "      <td>0</td>\n",
              "      <td>0</td>\n",
              "    </tr>\n",
              "    <tr>\n",
              "      <th>2020-02-03</th>\n",
              "      <td>2020-02-03</td>\n",
              "      <td>1</td>\n",
              "      <td>3</td>\n",
              "      <td>0</td>\n",
              "      <td>0</td>\n",
              "      <td>0</td>\n",
              "      <td>0</td>\n",
              "    </tr>\n",
              "  </tbody>\n",
              "</table>\n",
              "</div>"
            ],
            "text/plain": [
              "              Date_YMD  Daily Confirmed  ...  Daily Deceased  Total Deceased\n",
              "Date                                     ...                                \n",
              "2020-01-30  2020-01-30                1  ...               0               0\n",
              "2020-01-31  2020-01-31                0  ...               0               0\n",
              "2020-02-01  2020-02-01                0  ...               0               0\n",
              "2020-02-02  2020-02-02                1  ...               0               0\n",
              "2020-02-03  2020-02-03                1  ...               0               0\n",
              "\n",
              "[5 rows x 7 columns]"
            ]
          },
          "metadata": {
            "tags": []
          },
          "execution_count": 2
        }
      ]
    },
    {
      "cell_type": "code",
      "metadata": {
        "id": "5565f8d6"
      },
      "source": [
        "# just taking the daily covid cases.\n",
        "daily_cases = pd.DataFrame(df[\"Daily Confirmed\"]).rename(columns={\"Daily Confirmed\": \"cases\"})"
      ],
      "id": "5565f8d6",
      "execution_count": null,
      "outputs": []
    },
    {
      "cell_type": "code",
      "metadata": {
        "colab": {
          "base_uri": "https://localhost:8080/",
          "height": 363
        },
        "id": "5fb5364a",
        "outputId": "9b153824-6368-43c9-9bb1-daee915fdf61"
      },
      "source": [
        "# plotting the data\n",
        "import matplotlib.pyplot as plt\n",
        "daily_cases.plot(figsize=(12, 5))\n",
        "plt.ylabel(\"Covid Casesy\")\n",
        "plt.title(\"Covid Cases per day in India\", fontsize=16)\n",
        "plt.legend(fontsize=14);\n",
        "plt.show()"
      ],
      "id": "5fb5364a",
      "execution_count": null,
      "outputs": [
        {
          "output_type": "display_data",
          "data": {
            "image/png": "[encoded data removed]",
            "text/plain": [
              "<Figure size 864x360 with 1 Axes>"
            ]
          },
          "metadata": {
            "tags": [],
            "needs_background": "light"
          }
        }
      ]
    },
    {
      "cell_type": "code",
      "metadata": {
        "id": "91fe06e8"
      },
      "source": [
        "# Normalizing the data\n",
        "timesteps = daily_cases.index.to_numpy()\n",
        "cases = daily_cases[\"cases\"].to_numpy()\n",
        "cases = cases/414280"
      ],
      "id": "91fe06e8",
      "execution_count": null,
      "outputs": []
    },
    {
      "cell_type": "code",
      "metadata": {
        "id": "c81a0ccd"
      },
      "source": [
        "def get_labelled_windows(x, horizon=1):\n",
        "  \"\"\"\n",
        "  Creates labels for windowed dataset.\n",
        "\n",
        "  E.g. if horizon=1 (default)\n",
        "  Input: [1, 2, 3, 4, 5, 6] -> Output: ([1, 2, 3, 4, 5], [6])\n",
        "  \"\"\"\n",
        "  return x[:, :-horizon], x[:, -horizon:]"
      ],
      "id": "c81a0ccd",
      "execution_count": null,
      "outputs": []
    },
    {
      "cell_type": "code",
      "metadata": {
        "id": "f678ad9b"
      },
      "source": [
        "HORIZON = 1\n",
        "WINDOW_SIZE = 30 "
      ],
      "id": "f678ad9b",
      "execution_count": null,
      "outputs": []
    },
    {
      "cell_type": "code",
      "metadata": {
        "id": "dc155f8f"
      },
      "source": [
        "# creating data windows\n",
        "def make_windows(x, window_size=7, horizon=1):\n",
        "  # 1. Create a window of specific window_size (add the horizon on the end for later labelling)\n",
        "  window_step = np.expand_dims(np.arange(window_size+horizon), axis=0)\n",
        "  # print(f\"Window step:\\n {window_step}\")\n",
        "  # 2. Create a 2D array of multiple window steps (minus 1 to account for 0 indexing)\n",
        "  window_indexes = window_step + np.expand_dims(np.arange(len(x)-(window_size+horizon-1)), axis=0).T # create 2D array of windows of size window_size\n",
        "  # print(f\"Window indexes:\\n {window_indexes[:3], window_indexes[-3:], window_indexes.shape}\"\n",
        "  # 3. Index on the target array (time series) with 2D array of multiple window steps\n",
        "  windowed_array = x[window_indexes]\n",
        "  # 4. Get the labelled windows\n",
        "  windows, labels = get_labelled_windows(windowed_array, horizon=horizon)\n",
        "\n",
        "  return windows, labels"
      ],
      "id": "dc155f8f",
      "execution_count": null,
      "outputs": []
    },
    {
      "cell_type": "code",
      "metadata": {
        "id": "1932d0fe"
      },
      "source": [
        "import numpy as np\n",
        "full_windows, full_labels = make_windows(cases, window_size=WINDOW_SIZE, horizon=HORIZON)"
      ],
      "id": "1932d0fe",
      "execution_count": null,
      "outputs": []
    },
    {
      "cell_type": "code",
      "metadata": {
        "id": "27066ea0"
      },
      "source": [
        "def make_train_test_splits(windows, labels, test_split=0.2):\n",
        "  \"\"\"\n",
        "  Splits matching pairs of windows and labels into train and test splits.\n",
        "  \"\"\"\n",
        "  split_size = int(len(windows) * (1-test_split)) # this will default to 80% train/20% test\n",
        "  train_windows = windows[:split_size]\n",
        "  train_labels = labels[:split_size]\n",
        "  test_windows = windows[split_size:]\n",
        "  test_labels = labels[split_size:]\n",
        "  return train_windows, test_windows, train_labels, test_labels"
      ],
      "id": "27066ea0",
      "execution_count": null,
      "outputs": []
    },
    {
      "cell_type": "code",
      "metadata": {
        "id": "b4814cfa"
      },
      "source": [
        "train_windows, test_windows, train_labels, test_labels = make_train_test_splits(full_windows, full_labels)"
      ],
      "id": "b4814cfa",
      "execution_count": null,
      "outputs": []
    },
    {
      "cell_type": "code",
      "metadata": {
        "id": "ae5bd546"
      },
      "source": [
        "import os\n",
        "# Create a function to implement a ModelCheckpoint callback with a specific filename \n",
        "def create_model_checkpoint(model_name, save_path=\"model_experiments\"):\n",
        "  return tf.keras.callbacks.ModelCheckpoint(filepath=os.path.join(save_path, model_name), # create filepath to save model\n",
        "                                            verbose=0, # only output a limited amount of text\n",
        "                                            save_best_only=True) "
      ],
      "id": "ae5bd546",
      "execution_count": null,
      "outputs": []
    },
    {
      "cell_type": "code",
      "metadata": {
        "id": "a6ef26d0"
      },
      "source": [
        "import tensorflow as tf\n",
        "# Let's build an Stacked LSTM model with the Functional API\n",
        "\n",
        "inputs = layers.Input(shape=(WINDOW_SIZE))\n",
        "x = tf.keras.layers.Lambda(lambda x: tf.expand_dims(x, axis=1))(inputs) # expand input dimension to be compatible with LSTM\n",
        "x = tf.keras.layers.layers.LSTM(128, activation=\"relu\", return_sequences=True)(x) \n",
        "x = tf.keras.layers.layers.Dropout(0.2)(x)\n",
        "x = tf.keras.layers.layers.LSTM(128, activation=\"relu\")(x)\n",
        "x = tf.keras.layers.layers.Dropout(0.2)(x)\n",
        "x = tf.keras.layers.layers.Dense(32, activation=\"relu\")(x)\n",
        "output = tf.keras.layers.layers.Dense(HORIZON)(x)\n",
        "model_5 = tf.keras.Model(inputs=inputs, outputs=output, name=\"model_5_lstm\")\n",
        "\n",
        "# Compile model\n",
        "model_5.compile(loss=\"mae\",\n",
        "                optimizer=tf.keras.optimizers.Adam(0.0005))\n",
        "\n",
        "history = model_5.fit(train_windows,\n",
        "            train_labels,\n",
        "            epochs=150,\n",
        "            verbose=0,\n",
        "            batch_size=128,\n",
        "            validation_data=(test_windows, test_labels),\n",
        "            callbacks=[create_model_checkpoint(model_name=model_5.name)])"
      ],
      "id": "a6ef26d0",
      "execution_count": null,
      "outputs": []
    },
    {
      "cell_type": "code",
      "metadata": {
        "colab": {
          "base_uri": "https://localhost:8080/"
        },
        "id": "bad4981b",
        "outputId": "7c087807-9633-4f28-fc09-d665b7de6750"
      },
      "source": [
        "# evaluating the best model\n",
        "model_5 = tf.keras.models.load_model(\"model_experiments/model_5_lstm/\")\n",
        "model_5.evaluate(test_windows, test_labels)"
      ],
      "id": "bad4981b",
      "execution_count": null,
      "outputs": [
        {
          "output_type": "stream",
          "text": [
            "WARNING:tensorflow:Layer lstm will not use cuDNN kernels since it doesn't meet the criteria. It will use a generic GPU kernel as fallback when running on GPU.\n",
            "WARNING:tensorflow:Layer lstm_1 will not use cuDNN kernels since it doesn't meet the criteria. It will use a generic GPU kernel as fallback when running on GPU.\n",
            "4/4 [==============================] - 0s 4ms/step - loss: 0.0271\n"
          ],
          "name": "stdout"
        },
        {
          "output_type": "execute_result",
          "data": {
            "text/plain": [
              "0.027053499594330788"
            ]
          },
          "metadata": {
            "tags": []
          },
          "execution_count": 17
        }
      ]
    },
    {
      "cell_type": "markdown",
      "metadata": {
        "id": "yf2NIEnJxHWC"
      },
      "source": [
        "## Results\n",
        "\n",
        "we can see that we have achieved an error of 2.7% which is slightly higher than the original [paper](https://reader.elsevier.com/reader/sd/pii/S2211379721000048?token=96B6C9E2813943F5D2FE4882F66A79AFA5E8779BC525996AA7E6F9EE1B924E254C50FC4994A800B07CE92EADF065D17B&originRegion=eu-west-1&originCreation=20210815022455). Lets try to use this model to predict the future cases."
      ],
      "id": "yf2NIEnJxHWC"
    },
    {
      "cell_type": "code",
      "metadata": {
        "colab": {
          "base_uri": "https://localhost:8080/"
        },
        "id": "74bf9e83",
        "outputId": "b573dc46-9925-429b-963f-e56383d0fa15"
      },
      "source": [
        "def make_preds(pcases, model):\n",
        "    no_of_preds = 100\n",
        "    for i in range(no_of_preds):\n",
        "        eval_case = pcases[-30:].reshape(1,30)\n",
        "        pred = model.predict(eval_case)\n",
        "        pcases = np.append(pcases,pred)\n",
        "    return pcases\n",
        "pred_cases = make_preds(cases, model_5)\n",
        "pred_cases[-10:]"
      ],
      "id": "74bf9e83",
      "execution_count": null,
      "outputs": [
        {
          "output_type": "execute_result",
          "data": {
            "text/plain": [
              "array([0.21659741, 0.20328695, 0.19203615, 0.18219881, 0.17360687,\n",
              "       0.16575938, 0.1582801 , 0.15125737, 0.14482188, 0.13891993])"
            ]
          },
          "metadata": {
            "tags": []
          },
          "execution_count": 19
        }
      ]
    },
    {
      "cell_type": "code",
      "metadata": {
        "colab": {
          "base_uri": "https://localhost:8080/",
          "height": 320
        },
        "id": "9831c15b",
        "outputId": "5c4f59ca-0f40-4230-a381-c477ebcf3065"
      },
      "source": [
        "plt.figure(figsize=(12,5))\n",
        "plt.plot(pred_cases)\n",
        "plt.show()"
      ],
      "id": "9831c15b",
      "execution_count": null,
      "outputs": [
        {
          "output_type": "display_data",
          "data": {
            "image/png": "[encoded data removed]",
            "text/plain": [
              "<Figure size 864x360 with 1 Axes>"
            ]
          },
          "metadata": {
            "tags": [],
            "needs_background": "light"
          }
        }
      ]
    },
    {
      "cell_type": "markdown",
      "metadata": {
        "id": "PQO5-Jw1y4HR"
      },
      "source": [
        "We can see the rising trend of an upcoming third wave in the country. We have to consider a lot of things before we take this model seriously, such as:\n",
        "\n",
        "1. We are using a single feature (univariate) to make the prediction. this may not be accurate as the real trends could be more correlated to  other factors.\n",
        "\n",
        "2. The further in the future we want to predict, the less accurate the model becomes. This means that the actual slope may not be accurate. The peak or duration of the third wave might by varying a lot.\n",
        "\n",
        "But nevertheless, this is an alarming sign that the public should be prepared. I really wish that this does'nt happen and the model is wrong, but it's still a good idea to increase precautions and try to save yoursleves."
      ],
      "id": "PQO5-Jw1y4HR"
    }
  ]
}